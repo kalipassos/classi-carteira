{
  "cells": [
    {
      "cell_type": "markdown",
      "metadata": {},
      "source": [
        "# Classificação de Carteira\n",
        "\n",
        "Esse notebook objetiva analisar a carteira de clientes que cada vendedor atende e os resultados obtidos, classificando-os conforme sua performance em notas de 1 a 5."
      ]
    },
    {
      "cell_type": "markdown",
      "metadata": {
        "id": "8eUJeDyqSoF3"
      },
      "source": [
        "# Biblioteca + Dados"
      ]
    },
    {
      "cell_type": "code",
      "execution_count": 255,
      "metadata": {
        "colab": {
          "base_uri": "https://localhost:8080/"
        },
        "id": "HFFOKj6SsE7E",
        "outputId": "63ee517b-9c1c-48e1-e176-4ec2af7f1f55"
      },
      "outputs": [],
      "source": [
        "import pandas as pd\n",
        "import matplotlib.pyplot as plt\n",
        "import numpy as np\n",
        "from sklearn.preprocessing import PolynomialFeatures\n",
        "from sklearn.linear_model import LinearRegression\n",
        "from sklearn.metrics import mean_squared_error\n",
        "import seaborn as sns\n",
        "import sklearn\n",
        "from unidecode import unidecode"
      ]
    },
    {
      "cell_type": "code",
      "execution_count": 256,
      "metadata": {
        "id": "V9R06uzlsFyp"
      },
      "outputs": [],
      "source": [
        "df_raw = pd.read_excel(r\"Dados - Vendas.xlsx\")"
      ]
    },
    {
      "cell_type": "code",
      "execution_count": 257,
      "metadata": {
        "id": "f4NaPAlHSbx2"
      },
      "outputs": [],
      "source": [
        "df_meta_original = pd.read_excel(r\"Metas - Vendedores.xlsx\")"
      ]
    },
    {
      "cell_type": "code",
      "execution_count": 258,
      "metadata": {},
      "outputs": [
        {
          "data": {
            "text/plain": [
              "array(['HUNTER', 'BASE'], dtype=object)"
            ]
          },
          "execution_count": 258,
          "metadata": {},
          "output_type": "execute_result"
        }
      ],
      "source": [
        "df_meta_original['MODELO DE RV'].unique()"
      ]
    },
    {
      "cell_type": "code",
      "execution_count": 259,
      "metadata": {},
      "outputs": [],
      "source": [
        "# Manter as linhas onde RV = 'BASE'\n",
        "df_meta = df_meta_original[df_meta_original['MODELO DE RV'] == 'BASE'].reset_index(drop=True)"
      ]
    },
    {
      "cell_type": "code",
      "execution_count": 260,
      "metadata": {},
      "outputs": [],
      "source": [
        "# Desformatar nome do vendedor\n",
        "df_meta['VENDEDOR'] = df_meta['VENDEDOR'].astype(str)\n",
        "df_meta['VENDEDOR'] = df_meta['VENDEDOR'].apply(lambda x: ''.join(caractere for caractere in x if not caractere.isdigit()))\n",
        "\n",
        "df_meta['VENDEDOR'] = df_meta['VENDEDOR'].str.lower()\n",
        "df_meta['VENDEDOR'] = df_meta['VENDEDOR'].str.replace('-', ' ')\n",
        "df_meta['VENDEDOR'] = df_meta['VENDEDOR'].apply(unidecode)"
      ]
    },
    {
      "cell_type": "code",
      "execution_count": 261,
      "metadata": {},
      "outputs": [
        {
          "data": {
            "application/vnd.microsoft.datawrangler.viewer.v0+json": {
              "columns": [
                {
                  "name": "index",
                  "rawType": "int64",
                  "type": "integer"
                },
                {
                  "name": "LOJA",
                  "rawType": "object",
                  "type": "string"
                },
                {
                  "name": "VENDEDOR",
                  "rawType": "object",
                  "type": "string"
                },
                {
                  "name": "NÍVEL",
                  "rawType": "object",
                  "type": "string"
                },
                {
                  "name": "CARGO",
                  "rawType": "object",
                  "type": "string"
                },
                {
                  "name": "MODELO DE RV",
                  "rawType": "object",
                  "type": "string"
                },
                {
                  "name": "2024-01-01 00:00:00",
                  "rawType": "int64",
                  "type": "integer"
                },
                {
                  "name": "2024-02-01 00:00:00",
                  "rawType": "int64",
                  "type": "integer"
                },
                {
                  "name": "2024-03-01 00:00:00",
                  "rawType": "int64",
                  "type": "integer"
                }
              ],
              "conversionMethod": "pd.DataFrame",
              "ref": "fc48b9b3-41b0-4aff-ac94-095c8d6832e2",
              "rows": [
                [
                  "0",
                  "LOJA 1",
                  "vendedor f",
                  "II",
                  "BASE II",
                  "BASE",
                  "1349092",
                  "883966",
                  "730175"
                ],
                [
                  "1",
                  "LOJA 2",
                  "vendedor b",
                  "I",
                  "BASE I",
                  "BASE",
                  "1576223",
                  "1069209",
                  "1554963"
                ],
                [
                  "2",
                  "LOJA 2",
                  "vendedor c",
                  "III",
                  "BASE III",
                  "BASE",
                  "1265055",
                  "1045829",
                  "939132"
                ],
                [
                  "3",
                  "LOJA 2",
                  "vendedor d",
                  "I",
                  "BASE I",
                  "BASE",
                  "890927",
                  "1535909",
                  "1376390"
                ],
                [
                  "4",
                  "LOJA 2",
                  "vendedor e",
                  "II",
                  "BASE II",
                  "BASE",
                  "892380",
                  "949718",
                  "1505237"
                ],
                [
                  "5",
                  "LOJA 1",
                  "vendedor g",
                  "II",
                  "BASE II",
                  "BASE",
                  "752285",
                  "1414524",
                  "703068"
                ],
                [
                  "6",
                  "LOJA 2",
                  "vendedor i",
                  "III",
                  "BASE III",
                  "BASE",
                  "1454098",
                  "1346982",
                  "1034753"
                ],
                [
                  "7",
                  "LOJA 2",
                  "vendedor j",
                  "II",
                  "BASE II",
                  "BASE",
                  "1424601",
                  "1547535",
                  "682584"
                ]
              ],
              "shape": {
                "columns": 8,
                "rows": 8
              }
            },
            "text/html": [
              "<div>\n",
              "<style scoped>\n",
              "    .dataframe tbody tr th:only-of-type {\n",
              "        vertical-align: middle;\n",
              "    }\n",
              "\n",
              "    .dataframe tbody tr th {\n",
              "        vertical-align: top;\n",
              "    }\n",
              "\n",
              "    .dataframe thead th {\n",
              "        text-align: right;\n",
              "    }\n",
              "</style>\n",
              "<table border=\"1\" class=\"dataframe\">\n",
              "  <thead>\n",
              "    <tr style=\"text-align: right;\">\n",
              "      <th></th>\n",
              "      <th>LOJA</th>\n",
              "      <th>VENDEDOR</th>\n",
              "      <th>NÍVEL</th>\n",
              "      <th>CARGO</th>\n",
              "      <th>MODELO DE RV</th>\n",
              "      <th>2024-01-01 00:00:00</th>\n",
              "      <th>2024-02-01 00:00:00</th>\n",
              "      <th>2024-03-01 00:00:00</th>\n",
              "    </tr>\n",
              "  </thead>\n",
              "  <tbody>\n",
              "    <tr>\n",
              "      <th>0</th>\n",
              "      <td>LOJA 1</td>\n",
              "      <td>vendedor f</td>\n",
              "      <td>II</td>\n",
              "      <td>BASE II</td>\n",
              "      <td>BASE</td>\n",
              "      <td>1349092</td>\n",
              "      <td>883966</td>\n",
              "      <td>730175</td>\n",
              "    </tr>\n",
              "    <tr>\n",
              "      <th>1</th>\n",
              "      <td>LOJA 2</td>\n",
              "      <td>vendedor b</td>\n",
              "      <td>I</td>\n",
              "      <td>BASE I</td>\n",
              "      <td>BASE</td>\n",
              "      <td>1576223</td>\n",
              "      <td>1069209</td>\n",
              "      <td>1554963</td>\n",
              "    </tr>\n",
              "    <tr>\n",
              "      <th>2</th>\n",
              "      <td>LOJA 2</td>\n",
              "      <td>vendedor c</td>\n",
              "      <td>III</td>\n",
              "      <td>BASE III</td>\n",
              "      <td>BASE</td>\n",
              "      <td>1265055</td>\n",
              "      <td>1045829</td>\n",
              "      <td>939132</td>\n",
              "    </tr>\n",
              "    <tr>\n",
              "      <th>3</th>\n",
              "      <td>LOJA 2</td>\n",
              "      <td>vendedor d</td>\n",
              "      <td>I</td>\n",
              "      <td>BASE I</td>\n",
              "      <td>BASE</td>\n",
              "      <td>890927</td>\n",
              "      <td>1535909</td>\n",
              "      <td>1376390</td>\n",
              "    </tr>\n",
              "    <tr>\n",
              "      <th>4</th>\n",
              "      <td>LOJA 2</td>\n",
              "      <td>vendedor e</td>\n",
              "      <td>II</td>\n",
              "      <td>BASE II</td>\n",
              "      <td>BASE</td>\n",
              "      <td>892380</td>\n",
              "      <td>949718</td>\n",
              "      <td>1505237</td>\n",
              "    </tr>\n",
              "    <tr>\n",
              "      <th>5</th>\n",
              "      <td>LOJA 1</td>\n",
              "      <td>vendedor g</td>\n",
              "      <td>II</td>\n",
              "      <td>BASE II</td>\n",
              "      <td>BASE</td>\n",
              "      <td>752285</td>\n",
              "      <td>1414524</td>\n",
              "      <td>703068</td>\n",
              "    </tr>\n",
              "    <tr>\n",
              "      <th>6</th>\n",
              "      <td>LOJA 2</td>\n",
              "      <td>vendedor i</td>\n",
              "      <td>III</td>\n",
              "      <td>BASE III</td>\n",
              "      <td>BASE</td>\n",
              "      <td>1454098</td>\n",
              "      <td>1346982</td>\n",
              "      <td>1034753</td>\n",
              "    </tr>\n",
              "    <tr>\n",
              "      <th>7</th>\n",
              "      <td>LOJA 2</td>\n",
              "      <td>vendedor j</td>\n",
              "      <td>II</td>\n",
              "      <td>BASE II</td>\n",
              "      <td>BASE</td>\n",
              "      <td>1424601</td>\n",
              "      <td>1547535</td>\n",
              "      <td>682584</td>\n",
              "    </tr>\n",
              "  </tbody>\n",
              "</table>\n",
              "</div>"
            ],
            "text/plain": [
              "     LOJA    VENDEDOR NÍVEL     CARGO MODELO DE RV  2024-01-01 00:00:00  \\\n",
              "0  LOJA 1  vendedor f    II   BASE II         BASE              1349092   \n",
              "1  LOJA 2  vendedor b     I    BASE I         BASE              1576223   \n",
              "2  LOJA 2  vendedor c   III  BASE III         BASE              1265055   \n",
              "3  LOJA 2  vendedor d     I    BASE I         BASE               890927   \n",
              "4  LOJA 2  vendedor e    II   BASE II         BASE               892380   \n",
              "5  LOJA 1  vendedor g    II   BASE II         BASE               752285   \n",
              "6  LOJA 2  vendedor i   III  BASE III         BASE              1454098   \n",
              "7  LOJA 2  vendedor j    II   BASE II         BASE              1424601   \n",
              "\n",
              "   2024-02-01 00:00:00  2024-03-01 00:00:00  \n",
              "0               883966               730175  \n",
              "1              1069209              1554963  \n",
              "2              1045829               939132  \n",
              "3              1535909              1376390  \n",
              "4               949718              1505237  \n",
              "5              1414524               703068  \n",
              "6              1346982              1034753  \n",
              "7              1547535               682584  "
            ]
          },
          "execution_count": 261,
          "metadata": {},
          "output_type": "execute_result"
        }
      ],
      "source": [
        "df_meta"
      ]
    },
    {
      "cell_type": "code",
      "execution_count": 262,
      "metadata": {
        "id": "oxuy80N_TbML"
      },
      "outputs": [],
      "source": [
        "# Selecionar colunas de datas para agrupar\n",
        "colunas_datas = df_meta.columns[6:]\n",
        "\n",
        "# Utilizar a função melt para agrupar as colunas de datas em uma única coluna de data\n",
        "df_melted = pd.melt(df_meta, id_vars=['LOJA', 'VENDEDOR', 'CARGO', 'NÍVEL', 'MODELO DE RV'],\n",
        "                    value_vars=colunas_datas, var_name='DATA_VENDA', value_name='META VENDEDOR')\n",
        "\n",
        "# Converter a coluna 'Data' para o formato datetime, se necessário\n",
        "df_melted['DATA_VENDA'] = pd.to_datetime(df_melted['DATA_VENDA'])"
      ]
    },
    {
      "cell_type": "code",
      "execution_count": 263,
      "metadata": {
        "id": "jLVCzd7XTqvh"
      },
      "outputs": [],
      "source": [
        "# Converter a coluna 'Data' para objetos datetime\n",
        "df_melted['DATA_VENDA'] = pd.to_datetime(df_melted['DATA_VENDA'])\n",
        "\n",
        "# Extrair trimestres e criar uma nova coluna com o Q correspondente\n",
        "df_melted['TRIMESTRE'] = df_melted['DATA_VENDA'].dt.to_period(\"Q\")"
      ]
    },
    {
      "cell_type": "code",
      "execution_count": 264,
      "metadata": {},
      "outputs": [],
      "source": [
        "# Desformatar nome do vendedor\n",
        "df_raw['VENDEDOR'] = df_raw['VENDEDOR'].astype(str)\n",
        "df_raw['VENDEDOR'] = df_raw['VENDEDOR'].apply(lambda x: ''.join(caractere for caractere in x if not caractere.isdigit()))\n",
        "\n",
        "df_raw['VENDEDOR'] = df_raw['VENDEDOR'].str.lower()\n",
        "df_raw['VENDEDOR'] = df_raw['VENDEDOR'].str.replace('-', ' ')\n",
        "df_raw['VENDEDOR'] = df_raw['VENDEDOR'].apply(unidecode)"
      ]
    },
    {
      "cell_type": "code",
      "execution_count": 265,
      "metadata": {
        "id": "qqmF6k8Y8RUg"
      },
      "outputs": [],
      "source": [
        "# Converter a coluna 'Data' para objetos datetime\n",
        "df_raw['DATA'] = pd.to_datetime(df_raw['DATA'])\n",
        "\n",
        "# Extrair trimestres e criar uma nova coluna com o Q correspondente\n",
        "df_raw['TRIMESTRE'] = df_raw['DATA'].dt.to_period(\"Q\")"
      ]
    },
    {
      "cell_type": "code",
      "execution_count": 266,
      "metadata": {
        "colab": {
          "base_uri": "https://localhost:8080/"
        },
        "id": "IqyLL9tXT8_O",
        "outputId": "f26fbdde-8d7e-445c-b985-20b7cfc02876"
      },
      "outputs": [
        {
          "data": {
            "text/plain": [
              "Index(['LOJA', 'VENDEDOR', 'CARGO', 'NÍVEL', 'MODELO DE RV', 'DATA_VENDA',\n",
              "       'META VENDEDOR', 'TRIMESTRE'],\n",
              "      dtype='object')"
            ]
          },
          "execution_count": 266,
          "metadata": {},
          "output_type": "execute_result"
        }
      ],
      "source": [
        "df_melted.columns"
      ]
    },
    {
      "cell_type": "code",
      "execution_count": 267,
      "metadata": {
        "id": "DQyHk2zvT3_H"
      },
      "outputs": [],
      "source": [
        "# Agrupar pelo 'Cargo', 'Nível', 'Nome Do Ear Da Venda' e 'Trimestre' e calcular métricas\n",
        "df_meta_final = df_melted.groupby(['VENDEDOR', 'TRIMESTRE']).agg(\n",
        "    Nome_Loja=('LOJA', 'first'),\n",
        "    Cargo=('CARGO', 'first'),\n",
        "    Nivel=('NÍVEL', 'first'),\n",
        "    META_VENDEDOR=('META VENDEDOR', 'sum')\n",
        ").reset_index()"
      ]
    },
    {
      "cell_type": "markdown",
      "metadata": {
        "id": "YTj6lH40SxOV"
      },
      "source": [
        "# Criação de indicadores"
      ]
    },
    {
      "cell_type": "code",
      "execution_count": 268,
      "metadata": {
        "id": "A3e_PQvcBZCz"
      },
      "outputs": [],
      "source": [
        "df_raw['DELTA POTENCIAL'] = df_raw['POTENCIAL DO CLIENTE'] - df_raw['RECEITA MENSAL']-df_raw['PRODUÇÃO DE VENDAS']"
      ]
    },
    {
      "cell_type": "code",
      "execution_count": 269,
      "metadata": {
        "id": "5JhK6i42LwlJ"
      },
      "outputs": [],
      "source": [
        "df_raw['DELTA POTENCIAL'] = df_raw['DELTA POTENCIAL'].apply(lambda x: max(0, x))"
      ]
    },
    {
      "cell_type": "code",
      "execution_count": 270,
      "metadata": {
        "id": "CytkELuFznqc"
      },
      "outputs": [],
      "source": [
        "# Dividir a coluna de valores\n",
        "df_raw['CLASSIF_QUARTIL'] = pd.qcut(df_raw['DELTA POTENCIAL'], q=9, labels=False, duplicates='drop')"
      ]
    },
    {
      "cell_type": "code",
      "execution_count": 271,
      "metadata": {
        "id": "2URMeMr1tmyM"
      },
      "outputs": [],
      "source": [
        "# Normalizar entre 5 e 1\n",
        "min_val = df_raw['DELTA POTENCIAL'].min()\n",
        "max_val = df_raw['DELTA POTENCIAL'].max()\n",
        "\n",
        "\n",
        "df_raw['CLASSIF_NORMALIZADA'] = df_raw['DELTA POTENCIAL'].apply(\n",
        "    lambda x: 1 + ((x - min_val) * (5 - 1)) / (max_val - min_val)\n",
        "    )"
      ]
    },
    {
      "cell_type": "code",
      "execution_count": 272,
      "metadata": {
        "colab": {
          "base_uri": "https://localhost:8080/"
        },
        "id": "fckcKGSmUoPv",
        "outputId": "9b46c241-69bf-4130-b7fc-e45b65f86882"
      },
      "outputs": [
        {
          "data": {
            "text/plain": [
              "Index(['LOJA', 'VENDEDOR', 'DATA', 'CLIENTE', 'PRODUÇÃO DE VENDAS',\n",
              "       'RECEITA MENSAL', 'POTENCIAL DO CLIENTE', 'TRIMESTRE',\n",
              "       'DELTA POTENCIAL', 'CLASSIF_QUARTIL', 'CLASSIF_NORMALIZADA'],\n",
              "      dtype='object')"
            ]
          },
          "execution_count": 272,
          "metadata": {},
          "output_type": "execute_result"
        }
      ],
      "source": [
        "df_raw.columns"
      ]
    },
    {
      "cell_type": "code",
      "execution_count": 273,
      "metadata": {
        "id": "Q9Fs4NWn3liJ"
      },
      "outputs": [],
      "source": [
        "# Definir as funções de agregação\n",
        "def terceiro_quartil(series):\n",
        "    return series.quantile(0.75)\n",
        "\n",
        "# Agrupar pelo 'Cargo', 'Nível', 'Vendedor', 'Trimestre' e calcular métricas\n",
        "df_tratado = df_raw.groupby(['VENDEDOR', 'TRIMESTRE']).agg(\n",
        "    CLASSIF_QUARTIL_MEAN=('CLASSIF_QUARTIL', 'mean'),\n",
        "    CLASSIF_QUARTIL_3O_QUARTIL=('CLASSIF_QUARTIL', terceiro_quartil),\n",
        "    CLASSIF_QUARTIL_STD=('CLASSIF_QUARTIL', 'std'),\n",
        "    CLASSIF_NORMALIZADA_MEAN=('CLASSIF_NORMALIZADA', 'mean'),\n",
        "    CLIENTE_COUNT=('CLIENTE', 'nunique'),\n",
        "    PRODUCAO_SUM=('PRODUÇÃO DE VENDAS', 'sum')\n",
        ").reset_index()"
      ]
    },
    {
      "cell_type": "code",
      "execution_count": 274,
      "metadata": {
        "id": "LytouvDCUgIt"
      },
      "outputs": [],
      "source": [
        "# Merge usando a coluna de ID e trimestre\n",
        "df_merge = pd.merge(df_meta_final, df_tratado, left_on=['VENDEDOR', 'TRIMESTRE'], right_on=['VENDEDOR', 'TRIMESTRE'], how='left')"
      ]
    },
    {
      "cell_type": "code",
      "execution_count": null,
      "metadata": {
        "id": "kMt3Nz0EVA4-"
      },
      "outputs": [],
      "source": [
        "# Adicionando o atingimento de meta\n",
        "df_merge['ATG_META'] = df_merge['PRODUCAO_SUM']/df_merge['META_VENDEDOR']"
      ]
    },
    {
      "cell_type": "code",
      "execution_count": 278,
      "metadata": {
        "colab": {
          "base_uri": "https://localhost:8080/"
        },
        "id": "q05iZ8gYVLe7",
        "outputId": "16ac951b-1776-4aff-df17-9a857142a809"
      },
      "outputs": [
        {
          "data": {
            "application/vnd.microsoft.datawrangler.viewer.v0+json": {
              "columns": [
                {
                  "name": "index",
                  "rawType": "object",
                  "type": "string"
                },
                {
                  "name": "META_VENDEDOR",
                  "rawType": "float64",
                  "type": "float"
                },
                {
                  "name": "CLASSIF_QUARTIL_MEAN",
                  "rawType": "float64",
                  "type": "float"
                },
                {
                  "name": "CLASSIF_QUARTIL_3O_QUARTIL",
                  "rawType": "float64",
                  "type": "float"
                },
                {
                  "name": "CLASSIF_QUARTIL_STD",
                  "rawType": "float64",
                  "type": "float"
                },
                {
                  "name": "CLASSIF_NORMALIZADA_MEAN",
                  "rawType": "float64",
                  "type": "float"
                },
                {
                  "name": "CLIENTE_COUNT",
                  "rawType": "float64",
                  "type": "float"
                },
                {
                  "name": "PRODUCAO_SUM",
                  "rawType": "float64",
                  "type": "float"
                },
                {
                  "name": "ATG_META",
                  "rawType": "float64",
                  "type": "float"
                }
              ],
              "conversionMethod": "pd.DataFrame",
              "ref": "cb63ba1f-4490-4644-88a3-93b90efc1d74",
              "rows": [
                [
                  "count",
                  "8.0",
                  "8.0",
                  "8.0",
                  "8.0",
                  "8.0",
                  "8.0",
                  "8.0",
                  "8.0"
                ],
                [
                  "mean",
                  "2289996.75",
                  "1.1055442054142612",
                  "2.0",
                  "1.4436561928334581",
                  "1.3925028935888664",
                  "42.375",
                  "2127730.75",
                  "0.9972816315549744"
                ],
                [
                  "std",
                  "399588.5142739251",
                  "0.30543553084074404",
                  "0.7559289460184544",
                  "0.1838181435247746",
                  "0.13854227195045066",
                  "33.632201830983355",
                  "1376495.0209310343",
                  "0.8608655081116912"
                ],
                [
                  "min",
                  "1614141.0",
                  "0.725",
                  "1.0",
                  "1.198021873863917",
                  "1.2391618981418269",
                  "7.0",
                  "1026299.0",
                  "0.44093360512399576"
                ],
                [
                  "25%",
                  "2084434.25",
                  "0.8573717948717949",
                  "1.75",
                  "1.3437643798623757",
                  "1.2850862005219463",
                  "20.5",
                  "1092862.75",
                  "0.5102305793591988"
                ],
                [
                  "50%",
                  "2305927.0",
                  "1.0625",
                  "2.0",
                  "1.391667859439977",
                  "1.3562459875802428",
                  "33.5",
                  "1573474.5",
                  "0.6580477970436"
                ],
                [
                  "75%",
                  "2497259.25",
                  "1.3020622041920218",
                  "2.25",
                  "1.533193312837947",
                  "1.4710279258979635",
                  "58.25",
                  "2748057.75",
                  "0.9960364078364983"
                ],
                [
                  "max",
                  "2912299.0",
                  "1.5625",
                  "3.0",
                  "1.7448022740039797",
                  "1.6504106659726998",
                  "108.0",
                  "4841484.0",
                  "2.999418266433973"
                ]
              ],
              "shape": {
                "columns": 8,
                "rows": 8
              }
            },
            "text/html": [
              "<div>\n",
              "<style scoped>\n",
              "    .dataframe tbody tr th:only-of-type {\n",
              "        vertical-align: middle;\n",
              "    }\n",
              "\n",
              "    .dataframe tbody tr th {\n",
              "        vertical-align: top;\n",
              "    }\n",
              "\n",
              "    .dataframe thead th {\n",
              "        text-align: right;\n",
              "    }\n",
              "</style>\n",
              "<table border=\"1\" class=\"dataframe\">\n",
              "  <thead>\n",
              "    <tr style=\"text-align: right;\">\n",
              "      <th></th>\n",
              "      <th>META_VENDEDOR</th>\n",
              "      <th>CLASSIF_QUARTIL_MEAN</th>\n",
              "      <th>CLASSIF_QUARTIL_3O_QUARTIL</th>\n",
              "      <th>CLASSIF_QUARTIL_STD</th>\n",
              "      <th>CLASSIF_NORMALIZADA_MEAN</th>\n",
              "      <th>CLIENTE_COUNT</th>\n",
              "      <th>PRODUCAO_SUM</th>\n",
              "      <th>ATG_META</th>\n",
              "    </tr>\n",
              "  </thead>\n",
              "  <tbody>\n",
              "    <tr>\n",
              "      <th>count</th>\n",
              "      <td>8.000000e+00</td>\n",
              "      <td>8.000000</td>\n",
              "      <td>8.000000</td>\n",
              "      <td>8.000000</td>\n",
              "      <td>8.000000</td>\n",
              "      <td>8.000000</td>\n",
              "      <td>8.000000e+00</td>\n",
              "      <td>8.000000</td>\n",
              "    </tr>\n",
              "    <tr>\n",
              "      <th>mean</th>\n",
              "      <td>2.289997e+06</td>\n",
              "      <td>1.105544</td>\n",
              "      <td>2.000000</td>\n",
              "      <td>1.443656</td>\n",
              "      <td>1.392503</td>\n",
              "      <td>42.375000</td>\n",
              "      <td>2.127731e+06</td>\n",
              "      <td>0.997282</td>\n",
              "    </tr>\n",
              "    <tr>\n",
              "      <th>std</th>\n",
              "      <td>3.995885e+05</td>\n",
              "      <td>0.305436</td>\n",
              "      <td>0.755929</td>\n",
              "      <td>0.183818</td>\n",
              "      <td>0.138542</td>\n",
              "      <td>33.632202</td>\n",
              "      <td>1.376495e+06</td>\n",
              "      <td>0.860866</td>\n",
              "    </tr>\n",
              "    <tr>\n",
              "      <th>min</th>\n",
              "      <td>1.614141e+06</td>\n",
              "      <td>0.725000</td>\n",
              "      <td>1.000000</td>\n",
              "      <td>1.198022</td>\n",
              "      <td>1.239162</td>\n",
              "      <td>7.000000</td>\n",
              "      <td>1.026299e+06</td>\n",
              "      <td>0.440934</td>\n",
              "    </tr>\n",
              "    <tr>\n",
              "      <th>25%</th>\n",
              "      <td>2.084434e+06</td>\n",
              "      <td>0.857372</td>\n",
              "      <td>1.750000</td>\n",
              "      <td>1.343764</td>\n",
              "      <td>1.285086</td>\n",
              "      <td>20.500000</td>\n",
              "      <td>1.092863e+06</td>\n",
              "      <td>0.510231</td>\n",
              "    </tr>\n",
              "    <tr>\n",
              "      <th>50%</th>\n",
              "      <td>2.305927e+06</td>\n",
              "      <td>1.062500</td>\n",
              "      <td>2.000000</td>\n",
              "      <td>1.391668</td>\n",
              "      <td>1.356246</td>\n",
              "      <td>33.500000</td>\n",
              "      <td>1.573474e+06</td>\n",
              "      <td>0.658048</td>\n",
              "    </tr>\n",
              "    <tr>\n",
              "      <th>75%</th>\n",
              "      <td>2.497259e+06</td>\n",
              "      <td>1.302062</td>\n",
              "      <td>2.250000</td>\n",
              "      <td>1.533193</td>\n",
              "      <td>1.471028</td>\n",
              "      <td>58.250000</td>\n",
              "      <td>2.748058e+06</td>\n",
              "      <td>0.996036</td>\n",
              "    </tr>\n",
              "    <tr>\n",
              "      <th>max</th>\n",
              "      <td>2.912299e+06</td>\n",
              "      <td>1.562500</td>\n",
              "      <td>3.000000</td>\n",
              "      <td>1.744802</td>\n",
              "      <td>1.650411</td>\n",
              "      <td>108.000000</td>\n",
              "      <td>4.841484e+06</td>\n",
              "      <td>2.999418</td>\n",
              "    </tr>\n",
              "  </tbody>\n",
              "</table>\n",
              "</div>"
            ],
            "text/plain": [
              "       META_VENDEDOR  CLASSIF_QUARTIL_MEAN  CLASSIF_QUARTIL_3O_QUARTIL  \\\n",
              "count   8.000000e+00              8.000000                    8.000000   \n",
              "mean    2.289997e+06              1.105544                    2.000000   \n",
              "std     3.995885e+05              0.305436                    0.755929   \n",
              "min     1.614141e+06              0.725000                    1.000000   \n",
              "25%     2.084434e+06              0.857372                    1.750000   \n",
              "50%     2.305927e+06              1.062500                    2.000000   \n",
              "75%     2.497259e+06              1.302062                    2.250000   \n",
              "max     2.912299e+06              1.562500                    3.000000   \n",
              "\n",
              "       CLASSIF_QUARTIL_STD  CLASSIF_NORMALIZADA_MEAN  CLIENTE_COUNT  \\\n",
              "count             8.000000                  8.000000       8.000000   \n",
              "mean              1.443656                  1.392503      42.375000   \n",
              "std               0.183818                  0.138542      33.632202   \n",
              "min               1.198022                  1.239162       7.000000   \n",
              "25%               1.343764                  1.285086      20.500000   \n",
              "50%               1.391668                  1.356246      33.500000   \n",
              "75%               1.533193                  1.471028      58.250000   \n",
              "max               1.744802                  1.650411     108.000000   \n",
              "\n",
              "       PRODUCAO_SUM  ATG_META  \n",
              "count  8.000000e+00  8.000000  \n",
              "mean   2.127731e+06  0.997282  \n",
              "std    1.376495e+06  0.860866  \n",
              "min    1.026299e+06  0.440934  \n",
              "25%    1.092863e+06  0.510231  \n",
              "50%    1.573474e+06  0.658048  \n",
              "75%    2.748058e+06  0.996036  \n",
              "max    4.841484e+06  2.999418  "
            ]
          },
          "execution_count": 278,
          "metadata": {},
          "output_type": "execute_result"
        }
      ],
      "source": [
        "df_merge.describe()"
      ]
    },
    {
      "cell_type": "code",
      "execution_count": 280,
      "metadata": {
        "colab": {
          "base_uri": "https://localhost:8080/"
        },
        "id": "PS9F3cjqVtzB",
        "outputId": "fa0b4c2b-f888-412a-a773-7fd73e8dece0"
      },
      "outputs": [
        {
          "data": {
            "application/vnd.microsoft.datawrangler.viewer.v0+json": {
              "columns": [
                {
                  "name": "index",
                  "rawType": "int64",
                  "type": "integer"
                },
                {
                  "name": "VENDEDOR",
                  "rawType": "object",
                  "type": "string"
                },
                {
                  "name": "TRIMESTRE",
                  "rawType": "period[Q-DEC]",
                  "type": "unknown"
                },
                {
                  "name": "Nome_Loja",
                  "rawType": "object",
                  "type": "string"
                },
                {
                  "name": "Cargo",
                  "rawType": "object",
                  "type": "string"
                },
                {
                  "name": "Nivel",
                  "rawType": "object",
                  "type": "string"
                },
                {
                  "name": "META_VENDEDOR",
                  "rawType": "int64",
                  "type": "integer"
                },
                {
                  "name": "CLASSIF_QUARTIL_MEAN",
                  "rawType": "float64",
                  "type": "float"
                },
                {
                  "name": "CLASSIF_QUARTIL_3O_QUARTIL",
                  "rawType": "float64",
                  "type": "float"
                },
                {
                  "name": "CLASSIF_QUARTIL_STD",
                  "rawType": "float64",
                  "type": "float"
                },
                {
                  "name": "CLASSIF_NORMALIZADA_MEAN",
                  "rawType": "float64",
                  "type": "float"
                },
                {
                  "name": "CLIENTE_COUNT",
                  "rawType": "int64",
                  "type": "integer"
                },
                {
                  "name": "PRODUCAO_SUM",
                  "rawType": "int64",
                  "type": "integer"
                },
                {
                  "name": "ATG_META",
                  "rawType": "float64",
                  "type": "float"
                }
              ],
              "conversionMethod": "pd.DataFrame",
              "ref": "5a7ec8c2-62c1-42c2-97cb-f882449a43e0",
              "rows": [
                [
                  "0",
                  "vendedor b",
                  "2024Q1",
                  "LOJA 2",
                  "BASE I",
                  "I",
                  "2624172",
                  "1.4827586206896552",
                  "3.0",
                  "1.7448022740039797",
                  "1.6504106659726998",
                  "10",
                  "1990061",
                  "0.7583576838713316"
                ],
                [
                  "1",
                  "vendedor c",
                  "2024Q1",
                  "LOJA 2",
                  "BASE III",
                  "III",
                  "1984961",
                  "1.5625",
                  "3.0",
                  "1.672074559741082",
                  "1.5104669637426609",
                  "7",
                  "1107088",
                  "0.5577379102158683"
                ],
                [
                  "2",
                  "vendedor d",
                  "2024Q1",
                  "LOJA 2",
                  "BASE I",
                  "I",
                  "2912299",
                  "1.125",
                  "2.0",
                  "1.3963211105179787",
                  "1.368706647423304",
                  "55",
                  "2571196",
                  "0.882875006996191"
                ],
                [
                  "3",
                  "vendedor e",
                  "2024Q1",
                  "LOJA 2",
                  "BASE II",
                  "II",
                  "2454955",
                  "1.0",
                  "2.0",
                  "1.387014608361975",
                  "1.3437853277371816",
                  "68",
                  "3278643",
                  "1.33552061035742"
                ],
                [
                  "4",
                  "vendedor f",
                  "2024Q1",
                  "LOJA 1",
                  "BASE II",
                  "II",
                  "1614141",
                  "1.2418300653594772",
                  "2.0",
                  "1.4868995638702354",
                  "1.457881579949731",
                  "108",
                  "4841484",
                  "2.999418266433973"
                ],
                [
                  "5",
                  "vendedor g",
                  "2024Q1",
                  "LOJA 1",
                  "BASE II",
                  "II",
                  "2117592",
                  "0.8611111111111112",
                  "2.0",
                  "1.3554709835705032",
                  "1.2842426975713968",
                  "24",
                  "1026299",
                  "0.484653795443126"
                ],
                [
                  "6",
                  "vendedor i",
                  "2024Q1",
                  "LOJA 2",
                  "BASE III",
                  "III",
                  "2381735",
                  "0.8461538461538461",
                  "1.0",
                  "1.3086445687379935",
                  "1.2853673681721296",
                  "33",
                  "1050187",
                  "0.44093360512399576"
                ],
                [
                  "7",
                  "vendedor j",
                  "2024Q1",
                  "LOJA 2",
                  "BASE II",
                  "II",
                  "2230119",
                  "0.725",
                  "1.0",
                  "1.198021873863917",
                  "1.2391618981418269",
                  "34",
                  "1156888",
                  "0.5187561739978898"
                ]
              ],
              "shape": {
                "columns": 13,
                "rows": 8
              }
            },
            "text/html": [
              "<div>\n",
              "<style scoped>\n",
              "    .dataframe tbody tr th:only-of-type {\n",
              "        vertical-align: middle;\n",
              "    }\n",
              "\n",
              "    .dataframe tbody tr th {\n",
              "        vertical-align: top;\n",
              "    }\n",
              "\n",
              "    .dataframe thead th {\n",
              "        text-align: right;\n",
              "    }\n",
              "</style>\n",
              "<table border=\"1\" class=\"dataframe\">\n",
              "  <thead>\n",
              "    <tr style=\"text-align: right;\">\n",
              "      <th></th>\n",
              "      <th>VENDEDOR</th>\n",
              "      <th>TRIMESTRE</th>\n",
              "      <th>Nome_Loja</th>\n",
              "      <th>Cargo</th>\n",
              "      <th>Nivel</th>\n",
              "      <th>META_VENDEDOR</th>\n",
              "      <th>CLASSIF_QUARTIL_MEAN</th>\n",
              "      <th>CLASSIF_QUARTIL_3O_QUARTIL</th>\n",
              "      <th>CLASSIF_QUARTIL_STD</th>\n",
              "      <th>CLASSIF_NORMALIZADA_MEAN</th>\n",
              "      <th>CLIENTE_COUNT</th>\n",
              "      <th>PRODUCAO_SUM</th>\n",
              "      <th>ATG_META</th>\n",
              "    </tr>\n",
              "  </thead>\n",
              "  <tbody>\n",
              "    <tr>\n",
              "      <th>0</th>\n",
              "      <td>vendedor b</td>\n",
              "      <td>2024Q1</td>\n",
              "      <td>LOJA 2</td>\n",
              "      <td>BASE I</td>\n",
              "      <td>I</td>\n",
              "      <td>2624172</td>\n",
              "      <td>1.482759</td>\n",
              "      <td>3.0</td>\n",
              "      <td>1.744802</td>\n",
              "      <td>1.650411</td>\n",
              "      <td>10</td>\n",
              "      <td>1990061</td>\n",
              "      <td>0.758358</td>\n",
              "    </tr>\n",
              "    <tr>\n",
              "      <th>1</th>\n",
              "      <td>vendedor c</td>\n",
              "      <td>2024Q1</td>\n",
              "      <td>LOJA 2</td>\n",
              "      <td>BASE III</td>\n",
              "      <td>III</td>\n",
              "      <td>1984961</td>\n",
              "      <td>1.562500</td>\n",
              "      <td>3.0</td>\n",
              "      <td>1.672075</td>\n",
              "      <td>1.510467</td>\n",
              "      <td>7</td>\n",
              "      <td>1107088</td>\n",
              "      <td>0.557738</td>\n",
              "    </tr>\n",
              "    <tr>\n",
              "      <th>2</th>\n",
              "      <td>vendedor d</td>\n",
              "      <td>2024Q1</td>\n",
              "      <td>LOJA 2</td>\n",
              "      <td>BASE I</td>\n",
              "      <td>I</td>\n",
              "      <td>2912299</td>\n",
              "      <td>1.125000</td>\n",
              "      <td>2.0</td>\n",
              "      <td>1.396321</td>\n",
              "      <td>1.368707</td>\n",
              "      <td>55</td>\n",
              "      <td>2571196</td>\n",
              "      <td>0.882875</td>\n",
              "    </tr>\n",
              "    <tr>\n",
              "      <th>3</th>\n",
              "      <td>vendedor e</td>\n",
              "      <td>2024Q1</td>\n",
              "      <td>LOJA 2</td>\n",
              "      <td>BASE II</td>\n",
              "      <td>II</td>\n",
              "      <td>2454955</td>\n",
              "      <td>1.000000</td>\n",
              "      <td>2.0</td>\n",
              "      <td>1.387015</td>\n",
              "      <td>1.343785</td>\n",
              "      <td>68</td>\n",
              "      <td>3278643</td>\n",
              "      <td>1.335521</td>\n",
              "    </tr>\n",
              "    <tr>\n",
              "      <th>4</th>\n",
              "      <td>vendedor f</td>\n",
              "      <td>2024Q1</td>\n",
              "      <td>LOJA 1</td>\n",
              "      <td>BASE II</td>\n",
              "      <td>II</td>\n",
              "      <td>1614141</td>\n",
              "      <td>1.241830</td>\n",
              "      <td>2.0</td>\n",
              "      <td>1.486900</td>\n",
              "      <td>1.457882</td>\n",
              "      <td>108</td>\n",
              "      <td>4841484</td>\n",
              "      <td>2.999418</td>\n",
              "    </tr>\n",
              "    <tr>\n",
              "      <th>5</th>\n",
              "      <td>vendedor g</td>\n",
              "      <td>2024Q1</td>\n",
              "      <td>LOJA 1</td>\n",
              "      <td>BASE II</td>\n",
              "      <td>II</td>\n",
              "      <td>2117592</td>\n",
              "      <td>0.861111</td>\n",
              "      <td>2.0</td>\n",
              "      <td>1.355471</td>\n",
              "      <td>1.284243</td>\n",
              "      <td>24</td>\n",
              "      <td>1026299</td>\n",
              "      <td>0.484654</td>\n",
              "    </tr>\n",
              "    <tr>\n",
              "      <th>6</th>\n",
              "      <td>vendedor i</td>\n",
              "      <td>2024Q1</td>\n",
              "      <td>LOJA 2</td>\n",
              "      <td>BASE III</td>\n",
              "      <td>III</td>\n",
              "      <td>2381735</td>\n",
              "      <td>0.846154</td>\n",
              "      <td>1.0</td>\n",
              "      <td>1.308645</td>\n",
              "      <td>1.285367</td>\n",
              "      <td>33</td>\n",
              "      <td>1050187</td>\n",
              "      <td>0.440934</td>\n",
              "    </tr>\n",
              "    <tr>\n",
              "      <th>7</th>\n",
              "      <td>vendedor j</td>\n",
              "      <td>2024Q1</td>\n",
              "      <td>LOJA 2</td>\n",
              "      <td>BASE II</td>\n",
              "      <td>II</td>\n",
              "      <td>2230119</td>\n",
              "      <td>0.725000</td>\n",
              "      <td>1.0</td>\n",
              "      <td>1.198022</td>\n",
              "      <td>1.239162</td>\n",
              "      <td>34</td>\n",
              "      <td>1156888</td>\n",
              "      <td>0.518756</td>\n",
              "    </tr>\n",
              "  </tbody>\n",
              "</table>\n",
              "</div>"
            ],
            "text/plain": [
              "     VENDEDOR TRIMESTRE Nome_Loja     Cargo Nivel  META_VENDEDOR  \\\n",
              "0  vendedor b    2024Q1    LOJA 2    BASE I     I        2624172   \n",
              "1  vendedor c    2024Q1    LOJA 2  BASE III   III        1984961   \n",
              "2  vendedor d    2024Q1    LOJA 2    BASE I     I        2912299   \n",
              "3  vendedor e    2024Q1    LOJA 2   BASE II    II        2454955   \n",
              "4  vendedor f    2024Q1    LOJA 1   BASE II    II        1614141   \n",
              "5  vendedor g    2024Q1    LOJA 1   BASE II    II        2117592   \n",
              "6  vendedor i    2024Q1    LOJA 2  BASE III   III        2381735   \n",
              "7  vendedor j    2024Q1    LOJA 2   BASE II    II        2230119   \n",
              "\n",
              "   CLASSIF_QUARTIL_MEAN  CLASSIF_QUARTIL_3O_QUARTIL  CLASSIF_QUARTIL_STD  \\\n",
              "0              1.482759                         3.0             1.744802   \n",
              "1              1.562500                         3.0             1.672075   \n",
              "2              1.125000                         2.0             1.396321   \n",
              "3              1.000000                         2.0             1.387015   \n",
              "4              1.241830                         2.0             1.486900   \n",
              "5              0.861111                         2.0             1.355471   \n",
              "6              0.846154                         1.0             1.308645   \n",
              "7              0.725000                         1.0             1.198022   \n",
              "\n",
              "   CLASSIF_NORMALIZADA_MEAN  CLIENTE_COUNT  PRODUCAO_SUM  ATG_META  \n",
              "0                  1.650411             10       1990061  0.758358  \n",
              "1                  1.510467              7       1107088  0.557738  \n",
              "2                  1.368707             55       2571196  0.882875  \n",
              "3                  1.343785             68       3278643  1.335521  \n",
              "4                  1.457882            108       4841484  2.999418  \n",
              "5                  1.284243             24       1026299  0.484654  \n",
              "6                  1.285367             33       1050187  0.440934  \n",
              "7                  1.239162             34       1156888  0.518756  "
            ]
          },
          "execution_count": 280,
          "metadata": {},
          "output_type": "execute_result"
        }
      ],
      "source": [
        "df_merge"
      ]
    },
    {
      "cell_type": "code",
      "execution_count": null,
      "metadata": {},
      "outputs": [
        {
          "data": {
            "image/png": "[encoded data removed]",
            "text/plain": [
              "<Figure size 1000x600 with 1 Axes>"
            ]
          },
          "metadata": {},
          "output_type": "display_data"
        },
        {
          "data": {
            "image/png": "[encoded data removed]",
            "text/plain": [
              "<Figure size 1000x600 with 1 Axes>"
            ]
          },
          "metadata": {},
          "output_type": "display_data"
        },
        {
          "data": {
            "image/png": "[encoded data removed]",
            "text/plain": [
              "<Figure size 1000x600 with 1 Axes>"
            ]
          },
          "metadata": {},
          "output_type": "display_data"
        }
      ],
      "source": [
        "# Performance por nível\n",
        "plt.figure(figsize=(10, 6))\n",
        "sns.boxplot(x='Nivel', y='ATG_META', data=df_merge)\n",
        "plt.title('Distribuição de Atingimento de Meta por Nível')\n",
        "plt.show()"
      ]
    },
    {
      "cell_type": "code",
      "execution_count": 281,
      "metadata": {},
      "outputs": [
        {
          "data": {
            "image/png": "[encoded data removed]",
            "text/plain": [
              "<Figure size 1000x600 with 1 Axes>"
            ]
          },
          "metadata": {},
          "output_type": "display_data"
        }
      ],
      "source": [
        "# Análise de dispersão\n",
        "plt.figure(figsize=(10, 6))\n",
        "sns.scatterplot(data=df_merge, x='CLASSIF_QUARTIL_3O_QUARTIL', y='PRODUCAO_SUM', \n",
        "                hue='Nivel', size='CLIENTE_COUNT', sizes=(100, 1000))\n",
        "plt.title('Relação entre Classificação e Produção')\n",
        "plt.show()"
      ]
    },
    {
      "cell_type": "code",
      "execution_count": 282,
      "metadata": {},
      "outputs": [
        {
          "data": {
            "image/png": "[encoded data removed]",
            "text/plain": [
              "<Figure size 1000x600 with 1 Axes>"
            ]
          },
          "metadata": {},
          "output_type": "display_data"
        }
      ],
      "source": [
        "# Análise por loja\n",
        "plt.figure(figsize=(10, 6))\n",
        "sns.barplot(x='Nome_Loja', y='ATG_META', data=df_merge)\n",
        "plt.title('Média de Atingimento de Meta por Loja')\n",
        "plt.show()"
      ]
    },
    {
      "cell_type": "markdown",
      "metadata": {
        "id": "oELe0BkFSHC7"
      },
      "source": [
        "#DOWNLOAD\n"
      ]
    },
    {
      "cell_type": "code",
      "execution_count": null,
      "metadata": {
        "id": "OvN4WULta6dM"
      },
      "outputs": [],
      "source": [
        "df_merge.to_excel(r'\\df_merge.xlsx', index=False)"
      ]
    }
  ],
  "metadata": {
    "colab": {
      "provenance": []
    },
    "kernelspec": {
      "display_name": "base",
      "language": "python",
      "name": "python3"
    },
    "language_info": {
      "codemirror_mode": {
        "name": "ipython",
        "version": 3
      },
      "file_extension": ".py",
      "mimetype": "text/x-python",
      "name": "python",
      "nbconvert_exporter": "python",
      "pygments_lexer": "ipython3",
      "version": "3.12.7"
    }
  },
  "nbformat": 4,
  "nbformat_minor": 0
}
